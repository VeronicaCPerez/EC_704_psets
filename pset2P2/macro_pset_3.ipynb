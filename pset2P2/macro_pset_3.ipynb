{
 "cells": [
  {
   "cell_type": "code",
   "execution_count": 2,
   "metadata": {},
   "outputs": [
    {
     "name": "stdout",
     "output_type": "stream",
     "text": [
      "The value of theta is approximately: 0.4412418920473948\n"
     ]
    }
   ],
   "source": [
    "from scipy.optimize import fsolve\n",
    "\n",
    "# Given parameters\n",
    "iota = 1.6\n",
    "bar_m = 1\n",
    "target_value = 0.38\n",
    "\n",
    "# Define the equation\n",
    "def equation(theta):\n",
    "    return (1 + theta ** (-iota)) ** (-1 / iota) - target_value / bar_m\n",
    "\n",
    "# Solve for theta\n",
    "theta_solution = fsolve(equation, 0.5)  # Initial guess of theta\n",
    "\n",
    "print(\"The value of theta is approximately:\", theta_solution[0])\n"
   ]
  },
  {
   "cell_type": "markdown",
   "metadata": {},
   "source": [
    "# 1.3"
   ]
  },
  {
   "cell_type": "code",
   "execution_count": 19,
   "metadata": {},
   "outputs": [
    {
     "name": "stdout",
     "output_type": "stream",
     "text": [
      "Solution:  message: The solution converged.\n",
      " success: True\n",
      "  status: 1\n",
      "     fun: [ 1.554e-15 -6.661e-16  0.000e+00  0.000e+00]\n",
      "       x: [ 4.590e-01  4.745e-01  7.464e-01  7.624e-01]\n",
      "    nfev: 11\n",
      "    fjac: [[-8.481e-01 -5.554e-04 -5.299e-01 -4.208e-12]\n",
      "           [-2.164e-04 -8.465e-01  1.234e-03 -5.324e-01]\n",
      "           [ 5.299e-01 -7.200e-03 -8.480e-01  9.267e-03]\n",
      "           [ 5.937e-03  5.324e-01 -1.006e-02 -8.464e-01]]\n",
      "       r: [ 1.142e+00  2.647e-03 -1.400e+00 -6.785e-02  1.137e+00\n",
      "            1.601e-02 -1.324e+00  9.198e-01  1.299e-02  8.603e-01]\n",
      "     qtf: [ 5.419e-10 -2.965e-10 -3.412e-10  1.828e-10]\n",
      "Simulation: {'u': array([0.05      , 0.03826705, 0.03398052, ..., 0.03151202, 0.03151263,\n",
      "       0.03151286]), 'v': array([0.02295011, 0.01756466, 0.01559713, ..., 0.01446409, 0.01446437,\n",
      "       0.01446447]), 'theta': array([0.45900219, 0.45900219, 0.45900219, ..., 0.45900219, 0.45900219,\n",
      "       0.45900219])}\n"
     ]
    }
   ],
   "source": [
    "import numpy as np\n",
    "from scipy.optimize import root\n",
    "\n",
    "# Define the matching function\n",
    "def M(u, iota, m_):\n",
    "    return m_ * (u ** (1 / iota))\n",
    "\n",
    "# Define the syseq function\n",
    "def syseq(x, params):\n",
    "    p, beta, iota, gamma, z, s, b, m_, c_ = params\n",
    "    expect = np.array([np.sum(np.array([p, 1 - p]) * x[2:4]), np.sum(np.array([p, 1 - p]) * x[3:2:-1])])\n",
    "    out = np.zeros(4)\n",
    "    out[0:2] = beta * M(1 / x[0:2], iota, m_) * expect - c_\n",
    "    out[2:4] = (1 - gamma) * (z - b) - gamma * x[0:2] * c_ + beta * (1 - s) * expect - x[2:4]\n",
    "    return out\n",
    "\n",
    "# Define the simulation function\n",
    "def simu(n, syseq, p, beta, iota, gamma, z, s, b, m_, c_):\n",
    "    sol = root(syseq, x0=[0.5, 0.5, 0.5, 0.5], args=([p, beta, iota, gamma, z, s, b, m_, c_]))\n",
    "    theta = sol.x[0:2]\n",
    "\n",
    "    # Simulate the model\n",
    "    i = np.random.choice([0, 1], size=n, p=[p, 1 - p])\n",
    "    theta = theta[i]\n",
    "\n",
    "    # Compute u_t, v_t, theta_t\n",
    "    u = np.zeros(n)\n",
    "    u[0] = 0.05\n",
    "    for t in range(1, n):\n",
    "        rfind = M(theta[t - 1], iota, m_)\n",
    "        u[t] = u[t - 1] + s * (1 - u[t - 1]) - rfind * u[t - 1]\n",
    "\n",
    "    v = theta * u\n",
    "\n",
    "    return {'solution': sol, 'simulation': {'u': u, 'v': v, 'theta': theta}}\n",
    "\n",
    "# Set parameters\n",
    "n = 100000\n",
    "p = 0.985\n",
    "beta = 0.96 ** (1 / 12)\n",
    "iota = 1.6\n",
    "gamma = 0.5\n",
    "z = np.exp([-0.01, 0.01])\n",
    "s = 0.02\n",
    "b = 0.4\n",
    "m_ = 1\n",
    "c_ = 1.210649  # Value obtained from previous calculation\n",
    "\n",
    "# Run simulation\n",
    "result = simu(n, syseq, p, beta, iota, gamma, z, s, b, m_, c_)\n",
    "print(\"Solution:\", result['solution'])\n",
    "print(\"Simulation:\", result['simulation'])\n"
   ]
  },
  {
   "cell_type": "code",
   "execution_count": 36,
   "metadata": {},
   "outputs": [],
   "source": [
    "T = 6 \n",
    "results = []\n",
    "for i in range(T):\n",
    "    result = simu(n, syseq, p, beta, iota, gamma, z, s, b, m_, c_)\n",
    "    results.append(result['simulation'])"
   ]
  },
  {
   "cell_type": "code",
   "execution_count": 39,
   "metadata": {},
   "outputs": [],
   "source": [
    "import pandas as pd"
   ]
  },
  {
   "cell_type": "code",
   "execution_count": 40,
   "metadata": {},
   "outputs": [
    {
     "name": "stdout",
     "output_type": "stream",
     "text": [
      "\\begin{tabular}{rrr}\n",
      "\\toprule\n",
      " \\$\\textbackslash log u\\_t\\$ &  \\$\\textbackslash log v\\_t\\$ &  \\$\\textbackslash log \\textbackslash theta\\_t\\$ \\\\\n",
      "\\midrule\n",
      "   0.000083 &    0.000071 &         0.001912 \\\\\n",
      "   0.000083 &    0.000071 &         0.001912 \\\\\n",
      "   0.000083 &    0.000071 &         0.001900 \\\\\n",
      "   0.000082 &    0.000070 &         0.001871 \\\\\n",
      "   0.000082 &    0.000071 &         0.001890 \\\\\n",
      "   0.000082 &    0.000070 &         0.001879 \\\\\n",
      "\\bottomrule\n",
      "\\end{tabular}\n",
      "\n"
     ]
    },
    {
     "name": "stderr",
     "output_type": "stream",
     "text": [
      "/var/folders/9t/k_w3tl715wg5gz461j6z69pc0000gn/T/ipykernel_71420/3714563724.py:10: FutureWarning: In future versions `DataFrame.to_latex` is expected to utilise the base implementation of `Styler.to_latex` for formatting and rendering. The arguments signature may therefore change. It is recommended instead to use `DataFrame.style.to_latex` which also contains additional functionality.\n",
      "  latex_table = df.to_latex(index=False)\n"
     ]
    }
   ],
   "source": [
    "# Calculate standard deviation for each variable\n",
    "std_u = [np.std(item['u']) for item in results]\n",
    "std_v = [np.std(item['v']) for item in results]\n",
    "std_theta = [np.std(item['theta']) for item in results]\n",
    "\n",
    "# Create DataFrame\n",
    "df = pd.DataFrame({'$\\log u_t$': std_u, '$\\log v_t$': std_v, '$\\log \\\\theta_t$': std_theta})\n",
    "\n",
    "# Export to LaTeX\n",
    "latex_table = df.to_latex(index=False)\n",
    "\n",
    "# Print LaTeX table\n",
    "print(latex_table)"
   ]
  },
  {
   "cell_type": "markdown",
   "metadata": {},
   "source": [
    "# 1.5"
   ]
  },
  {
   "cell_type": "code",
   "execution_count": 53,
   "metadata": {},
   "outputs": [
    {
     "name": "stdout",
     "output_type": "stream",
     "text": [
      "Solution:  message: The solution converged.\n",
      " success: True\n",
      "  status: 1\n",
      "     fun: [ 3.464e-14 -2.043e-14 -1.110e-16  1.110e-16]\n",
      "       x: [ 4.413e-01  4.564e-01  7.394e-01  7.554e-01]\n",
      "    nfev: 11\n",
      "    fjac: [[-8.468e-01 -1.763e-03 -5.319e-01 -4.455e-11]\n",
      "           [-2.976e-04 -8.438e-01  3.270e-03 -5.366e-01]\n",
      "           [ 5.318e-01 -1.313e-02 -8.466e-01  1.520e-02]\n",
      "           [ 9.771e-03  5.364e-01 -1.733e-02 -8.437e-01]]\n",
      "       r: [ 1.138e+00  6.936e-03 -1.435e+00 -7.997e-02  1.128e+00\n",
      "            2.731e-02 -1.328e+00  9.640e-01  9.855e-03  8.898e-01]\n",
      "     qtf: [ 7.052e-09 -4.550e-09 -4.506e-09  2.812e-09]\n",
      "Simulation: {'u': array([0.05      , 0.03901422, 0.0348365 , ..., 0.03227287, 0.03227287,\n",
      "       0.03227287]), 'v': array([0.02206392, 0.01721613, 0.01537259, ..., 0.01424132, 0.01424132,\n",
      "       0.01424132]), 'theta': array([0.44127834, 0.44127834, 0.44127834, ..., 0.44127834, 0.44127834,\n",
      "       0.44127834])}\n"
     ]
    }
   ],
   "source": [
    "# Run simulation\n",
    "result = simu(n, syseq, p, 0.8 ** (1 / 12), iota, gamma, z, s, b, m_, c_)\n",
    "print(\"Solution:\", result['solution'])\n",
    "print(\"Simulation:\", result['simulation'])\n"
   ]
  },
  {
   "cell_type": "code",
   "execution_count": 58,
   "metadata": {},
   "outputs": [],
   "source": [
    "T = 6 \n",
    "results = []\n",
    "for i in range(T):\n",
    "    result = simu(n, syseq, p, 0.8 ** (1 / 12), iota, gamma, z, s, b, m_, c_)\n",
    "    results.append(result['simulation'])"
   ]
  },
  {
   "cell_type": "code",
   "execution_count": 59,
   "metadata": {},
   "outputs": [
    {
     "name": "stdout",
     "output_type": "stream",
     "text": [
      "\\begin{tabular}{rrr}\n",
      "\\toprule\n",
      " \\$\\textbackslash log u\\_t\\$ &  \\$\\textbackslash log v\\_t\\$ &  \\$\\textbackslash log \\textbackslash theta\\_t\\$ \\\\\n",
      "\\midrule\n",
      "   0.000081 &    0.000069 &         0.001816 \\\\\n",
      "   0.000081 &    0.000069 &         0.001821 \\\\\n",
      "   0.000081 &    0.000070 &         0.001846 \\\\\n",
      "   0.000081 &    0.000069 &         0.001839 \\\\\n",
      "   0.000082 &    0.000070 &         0.001850 \\\\\n",
      "   0.000082 &    0.000070 &         0.001854 \\\\\n",
      "\\bottomrule\n",
      "\\end{tabular}\n",
      "\n"
     ]
    },
    {
     "name": "stderr",
     "output_type": "stream",
     "text": [
      "/var/folders/9t/k_w3tl715wg5gz461j6z69pc0000gn/T/ipykernel_71420/3714563724.py:10: FutureWarning: In future versions `DataFrame.to_latex` is expected to utilise the base implementation of `Styler.to_latex` for formatting and rendering. The arguments signature may therefore change. It is recommended instead to use `DataFrame.style.to_latex` which also contains additional functionality.\n",
      "  latex_table = df.to_latex(index=False)\n"
     ]
    }
   ],
   "source": [
    "# Calculate standard deviation for each variable\n",
    "std_u = [np.std(item['u']) for item in results]\n",
    "std_v = [np.std(item['v']) for item in results]\n",
    "std_theta = [np.std(item['theta']) for item in results]\n",
    "\n",
    "# Create DataFrame\n",
    "df = pd.DataFrame({'$\\log u_t$': std_u, '$\\log v_t$': std_v, '$\\log \\\\theta_t$': std_theta})\n",
    "\n",
    "# Export to LaTeX\n",
    "latex_table = df.to_latex(index=False)\n",
    "\n",
    "# Print LaTeX table\n",
    "print(latex_table)"
   ]
  },
  {
   "cell_type": "markdown",
   "metadata": {},
   "source": [
    "# 1.6"
   ]
  },
  {
   "cell_type": "code",
   "execution_count": 61,
   "metadata": {},
   "outputs": [
    {
     "name": "stdout",
     "output_type": "stream",
     "text": [
      "Solution:  message: The solution converged.\n",
      " success: True\n",
      "  status: 1\n",
      "     fun: [ 2.165e-12 -1.227e-12  5.551e-17  8.327e-17]\n",
      "       x: [ 3.690e-02  3.690e-02  1.545e-01  1.545e-01]\n",
      "    nfev: 54\n",
      "    fjac: [[-9.996e-01  2.856e-04 -2.739e-02  1.226e-03]\n",
      "           [-3.201e-04 -9.996e-01 -2.194e-05 -2.869e-02]\n",
      "           [ 2.741e-02 -1.123e-03 -9.988e-01  3.958e-02]\n",
      "           [-1.314e-04  2.866e-02 -3.961e-02 -9.988e-01]]\n",
      "       r: [ 2.116e+01 -1.691e-02 -7.701e+00 -8.448e-02  2.110e+01\n",
      "            1.470e-02 -7.838e+00  2.492e-01 -2.199e-02  2.475e-01]\n",
      "     qtf: [-3.540e-10  1.977e-10  9.926e-12 -5.721e-12]\n",
      "Simulation: {'u': array([0.05      , 0.0626415 , 0.07342255, ..., 0.13589727, 0.13589727,\n",
      "       0.13589727]), 'v': array([0.00184495, 0.00231141, 0.00270922, ..., 0.00501448, 0.00501448,\n",
      "       0.00501448]), 'theta': array([0.03689907, 0.03689907, 0.03689907, ..., 0.03689907, 0.03689907,\n",
      "       0.03689907])}\n"
     ]
    }
   ],
   "source": [
    "import numpy as np\n",
    "from scipy.optimize import root\n",
    "\n",
    "# Define the matching function\n",
    "def M(u, iota, m_):\n",
    "    return m_ * (u ** (1/iota))\n",
    "\n",
    "# Define the function for solving equations\n",
    "def syseq_modified(x, params):\n",
    "    p, beta, iota, gamma, z_l, z_h, s, m_, c_ = params\n",
    "    b_t = 0.95 * np.exp(x[0])  # Time-varying flow utility\n",
    "    expect = np.array([np.sum(np.array([p, 1 - p]) * x[2:4]), np.sum(np.array([p, 1 - p]) * x[3:2:-1])])\n",
    "    out = np.zeros(4)\n",
    "    out[0:2] = beta * M(1 / x[0:2], iota, m_) * expect - c_\n",
    "    out[2:4] = (1 - gamma) * (np.exp(x[0]) - b_t) - gamma * x[0:2] * c_ + beta * (1 - s) * expect - x[2:4]\n",
    "    return out\n",
    "\n",
    "# Function for simulation\n",
    "def simu_modified(n, p, beta, iota, gamma, z_l, z_h, s, m_, c_):\n",
    "    sol = root(syseq_modified, x0=[0.5, 0.5, 0.5, 0.5], args=([p, beta, iota, gamma, z_l, z_h, s, m_, c_]))\n",
    "    theta = sol.x[0:2]\n",
    "\n",
    "    # Simulate the model\n",
    "    i = np.random.choice([0, 1], size=n, p=[p, 1 - p])\n",
    "    theta = theta[i]\n",
    "\n",
    "    # Compute u_t, v_t, theta_t\n",
    "    u = np.zeros(n)\n",
    "    u[0] = 0.05\n",
    "    for t in range(1, n):\n",
    "        rfind = M(theta[t - 1], iota, m_)\n",
    "        u[t] = u[t - 1] + s * (1 - u[t - 1]) - rfind * u[t - 1]\n",
    "\n",
    "    v = theta * u\n",
    "\n",
    "    return {'solution': sol, 'simulation': {'u': u, 'v': v, 'theta': theta}}\n",
    "\n",
    "# Parameters\n",
    "n = 100000\n",
    "p = 0.985\n",
    "beta = 0.96 ** (1 / 12)\n",
    "iota = 1.6\n",
    "gamma = 0.5\n",
    "z_l = -0.01  # Log productivity level\n",
    "z_h = 0.01   # Log productivity level\n",
    "s = 0.02\n",
    "m_ = 1\n",
    "c_ = 1.210649  # Value obtained from previous calculation\n",
    "\n",
    "# Simulation\n",
    "result_modified = simu_modified(n, p, beta, iota, gamma, z_l, z_h, s, m_, c_)\n",
    "print(\"Solution:\", result_modified['solution'])\n",
    "print(\"Simulation:\", result_modified['simulation'])\n"
   ]
  },
  {
   "cell_type": "code",
   "execution_count": 62,
   "metadata": {},
   "outputs": [],
   "source": [
    "T = 6 \n",
    "results = []\n",
    "for i in range(T):\n",
    "    result_modified = simu_modified(n, p, beta, iota, gamma, z_l, z_h, s, m_, c_)\n",
    "    results.append(result_modified['simulation'])"
   ]
  },
  {
   "cell_type": "code",
   "execution_count": 63,
   "metadata": {},
   "outputs": [
    {
     "name": "stdout",
     "output_type": "stream",
     "text": [
      "\\begin{tabular}{rrr}\n",
      "\\toprule\n",
      " \\$\\textbackslash log u\\_t\\$ &  \\$\\textbackslash log v\\_t\\$ &  \\$\\textbackslash log \\textbackslash theta\\_t\\$ \\\\\n",
      "\\midrule\n",
      "    0.00052 &    0.000019 &     2.880290e-15 \\\\\n",
      "    0.00052 &    0.000019 &     2.933371e-15 \\\\\n",
      "    0.00052 &    0.000019 &     2.859522e-15 \\\\\n",
      "    0.00052 &    0.000019 &     2.859524e-15 \\\\\n",
      "    0.00052 &    0.000019 &     2.894364e-15 \\\\\n",
      "    0.00052 &    0.000019 &     2.834794e-15 \\\\\n",
      "\\bottomrule\n",
      "\\end{tabular}\n",
      "\n"
     ]
    },
    {
     "name": "stderr",
     "output_type": "stream",
     "text": [
      "/var/folders/9t/k_w3tl715wg5gz461j6z69pc0000gn/T/ipykernel_71420/3714563724.py:10: FutureWarning: In future versions `DataFrame.to_latex` is expected to utilise the base implementation of `Styler.to_latex` for formatting and rendering. The arguments signature may therefore change. It is recommended instead to use `DataFrame.style.to_latex` which also contains additional functionality.\n",
      "  latex_table = df.to_latex(index=False)\n"
     ]
    }
   ],
   "source": [
    "# Calculate standard deviation for each variable\n",
    "std_u = [np.std(item['u']) for item in results]\n",
    "std_v = [np.std(item['v']) for item in results]\n",
    "std_theta = [np.std(item['theta']) for item in results]\n",
    "\n",
    "# Create DataFrame\n",
    "df = pd.DataFrame({'$\\log u_t$': std_u, '$\\log v_t$': std_v, '$\\log \\\\theta_t$': std_theta})\n",
    "\n",
    "# Export to LaTeX\n",
    "latex_table = df.to_latex(index=False)\n",
    "\n",
    "# Print LaTeX table\n",
    "print(latex_table)"
   ]
  },
  {
   "cell_type": "markdown",
   "metadata": {},
   "source": []
  }
 ],
 "metadata": {
  "kernelspec": {
   "display_name": "python_env",
   "language": "python",
   "name": "python3"
  },
  "language_info": {
   "codemirror_mode": {
    "name": "ipython",
    "version": 3
   },
   "file_extension": ".py",
   "mimetype": "text/x-python",
   "name": "python",
   "nbconvert_exporter": "python",
   "pygments_lexer": "ipython3",
   "version": "3.8.17"
  }
 },
 "nbformat": 4,
 "nbformat_minor": 2
}
